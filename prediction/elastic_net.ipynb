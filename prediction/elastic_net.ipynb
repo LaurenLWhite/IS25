{
 "cells": [
  {
   "cell_type": "code",
   "execution_count": null,
   "metadata": {},
   "outputs": [],
   "source": [
    "import numpy as np\n",
    "import pandas as pd\n",
    "\n",
    "from prediction_functions import *"
   ]
  },
  {
   "cell_type": "markdown",
   "metadata": {},
   "source": [
    "### Loading in and splitting the data "
   ]
  },
  {
   "cell_type": "code",
   "execution_count": null,
   "metadata": {},
   "outputs": [],
   "source": [
    "data_path = \"../data/prediction_data/\"\n",
    "depression_data_path = \"../data/depression_data/\"\n",
    "\n",
    "# file name for the depression data, must be csv. \n",
    "depression_file = \"synthetic_mdd_data.csv\""
   ]
  },
  {
   "cell_type": "code",
   "execution_count": null,
   "metadata": {},
   "outputs": [],
   "source": [
    "# clac\n",
    "clac_data = pd.read_csv(data_path + \"/clac_mdd_features.csv\", index_col=0) \n",
    "\n",
    "# common voice\n",
    "common_data = pd.read_csv(data_path + \"/common_mdd_features.csv\", index_col=0) "
   ]
  },
  {
   "cell_type": "code",
   "execution_count": null,
   "metadata": {},
   "outputs": [],
   "source": [
    "common_data.head()"
   ]
  },
  {
   "cell_type": "code",
   "execution_count": null,
   "metadata": {},
   "outputs": [],
   "source": [
    "clac_data.head()"
   ]
  },
  {
   "cell_type": "markdown",
   "metadata": {},
   "source": [
    "### Create datasets for the two model versions"
   ]
  },
  {
   "cell_type": "code",
   "execution_count": null,
   "metadata": {},
   "outputs": [],
   "source": [
    "mdd_raw = pd.read_csv(depression_data_path + depression_file, index_col=0)"
   ]
  },
  {
   "cell_type": "code",
   "execution_count": null,
   "metadata": {},
   "outputs": [],
   "source": [
    "# demographics only - i know these should be the same across datasets but I want to be safe\n",
    "demographics = mdd_raw.loc[:,[\"pid\", \"age\", \"education_years\", \"gender\", \"phq8\"]]"
   ]
  },
  {
   "cell_type": "code",
   "execution_count": null,
   "metadata": {},
   "outputs": [],
   "source": [
    "from sklearn.model_selection import GroupKFold, GridSearchCV\n",
    "from sklearn.preprocessing import StandardScaler\n",
    "from sklearn.pipeline import Pipeline\n",
    "from sklearn.ensemble import RandomForestRegressor\n",
    "from sklearn.model_selection import cross_validate"
   ]
  },
  {
   "cell_type": "code",
   "execution_count": null,
   "metadata": {},
   "outputs": [],
   "source": [
    "# cv splits\n",
    "inner_cv = GroupKFold(n_splits=10)\n",
    "outer_cv = GroupKFold(n_splits=10)"
   ]
  },
  {
   "cell_type": "code",
   "execution_count": null,
   "metadata": {},
   "outputs": [],
   "source": [
    "# Pipeline\n",
    "en_pipeline = Pipeline([\n",
    "    ('scaler', StandardScaler()),\n",
    "    ('elasticnet', ElasticNet(random_state=30))\n",
    "])\n",
    "\n",
    "# Define hyperparameters to search\n",
    "en_param_grid = {\n",
    "    'elasticnet__alpha': [0.1, 1.0, 10.0, 100],\n",
    "    'elasticnet__l1_ratio': [0.1, 0.2, 0.3, 0.4, 0.5, 0.6, 0.7, 0.8, 0.9]\n",
    "}"
   ]
  },
  {
   "cell_type": "markdown",
   "metadata": {},
   "source": [
    "### Demographics models"
   ]
  },
  {
   "cell_type": "markdown",
   "metadata": {},
   "source": [
    "#### Demographics only"
   ]
  },
  {
   "cell_type": "code",
   "execution_count": null,
   "metadata": {},
   "outputs": [],
   "source": [
    "features = [\"age\", \"gender\", \"education_years\"]\n",
    "\n",
    "X = mdd_raw[features]\n",
    "y = mdd_raw[[\"phq8\"]]\n",
    "groups = mdd_raw[[\"pid\"]]"
   ]
  },
  {
   "cell_type": "code",
   "execution_count": null,
   "metadata": {},
   "outputs": [],
   "source": [
    "en_Inner_Grid_1 = GridSearchCV(en_pipeline,\n",
    "                               en_param_grid,\n",
    "                               verbose = 1,\n",
    "                               cv=inner_cv,\n",
    "                               n_jobs = -1)"
   ]
  },
  {
   "cell_type": "code",
   "execution_count": null,
   "metadata": {},
   "outputs": [],
   "source": [
    "en_demo = cross_validate(en_Inner_Grid_1, X, y, \n",
    "                         cv=outer_cv,\n",
    "                         groups=groups,\n",
    "                         params={'groups': groups}, \n",
    "                         scoring=scorers,\n",
    "                         n_jobs = -1,\n",
    "                         return_train_score=True,\n",
    "                         return_estimator=True)"
   ]
  },
  {
   "cell_type": "markdown",
   "metadata": {},
   "source": [
    "#### Conventional + demographics"
   ]
  },
  {
   "cell_type": "code",
   "execution_count": null,
   "metadata": {},
   "outputs": [],
   "source": [
    "features = mdd_raw.columns.drop([\"pid\", \"phq8\"])\n",
    "\n",
    "X = mdd_raw[features]\n",
    "y = mdd_raw[[\"phq8\"]]\n",
    "groups = mdd_raw[[\"pid\"]]"
   ]
  },
  {
   "cell_type": "code",
   "execution_count": null,
   "metadata": {},
   "outputs": [],
   "source": [
    "en_Inner_Grid_2 = GridSearchCV(en_pipeline,\n",
    "                               en_param_grid,\n",
    "                               verbose = 1,\n",
    "                               cv=inner_cv,\n",
    "                               n_jobs = -1)"
   ]
  },
  {
   "cell_type": "code",
   "execution_count": null,
   "metadata": {},
   "outputs": [],
   "source": [
    "en_raw = cross_validate(en_Inner_Grid_2, X, y, \n",
    "                         cv=outer_cv,\n",
    "                         groups=groups,\n",
    "                         params={'groups': groups}, \n",
    "                         scoring=scorers,\n",
    "                         n_jobs = -1,\n",
    "                         return_train_score=True,\n",
    "                         return_estimator=True)"
   ]
  },
  {
   "cell_type": "markdown",
   "metadata": {},
   "source": [
    "#### CLAC + demographics"
   ]
  },
  {
   "cell_type": "code",
   "execution_count": null,
   "metadata": {},
   "outputs": [],
   "source": [
    "en_Inner_Grid_3 = GridSearchCV(en_pipeline,\n",
    "                               en_param_grid,\n",
    "                               verbose = 1,\n",
    "                               cv=inner_cv,\n",
    "                               n_jobs = -1)\n"
   ]
  },
  {
   "cell_type": "code",
   "execution_count": null,
   "metadata": {},
   "outputs": [],
   "source": [
    "features = clac_data.columns.drop([\"pid\", \"phq8\"])\n",
    "\n",
    "X = clac_data[features]\n",
    "y = clac_data[[\"phq8\"]]\n",
    "groups = clac_data[[\"pid\"]]"
   ]
  },
  {
   "cell_type": "code",
   "execution_count": null,
   "metadata": {},
   "outputs": [],
   "source": [
    "clac_model = cross_validate(en_Inner_Grid_3, X, y, \n",
    "                           cv=outer_cv,\n",
    "                           groups=groups,\n",
    "                           params={'groups': groups}, \n",
    "                           scoring=scorers,\n",
    "                           return_train_score=True,\n",
    "                           return_estimator=True,\n",
    "                           n_jobs = -1)"
   ]
  },
  {
   "cell_type": "markdown",
   "metadata": {},
   "source": [
    "#### Common voice + demographics"
   ]
  },
  {
   "cell_type": "code",
   "execution_count": null,
   "metadata": {},
   "outputs": [],
   "source": [
    "en_Inner_Grid_4 = GridSearchCV(en_pipeline,\n",
    "                               en_param_grid,\n",
    "                               verbose = 1,\n",
    "                               cv=inner_cv,\n",
    "                               n_jobs = -1)"
   ]
  },
  {
   "cell_type": "code",
   "execution_count": null,
   "metadata": {},
   "outputs": [],
   "source": [
    "features = common_data.columns.drop([\"pid\", \"phq8\"])\n",
    "\n",
    "X = common_data[features]\n",
    "y = common_data[[\"phq8\"]]\n",
    "groups = common_data[[\"pid\"]]"
   ]
  },
  {
   "cell_type": "code",
   "execution_count": null,
   "metadata": {},
   "outputs": [],
   "source": [
    "common_model = cross_validate(en_Inner_Grid_4, X, y, \n",
    "                           cv=outer_cv,\n",
    "                           groups=groups,\n",
    "                           params={'groups': groups}, \n",
    "                           scoring=scorers,\n",
    "                           return_train_score=True,\n",
    "                           return_estimator=True,\n",
    "                           n_jobs = -1)"
   ]
  },
  {
   "cell_type": "markdown",
   "metadata": {},
   "source": [
    "### Models without demographics"
   ]
  },
  {
   "cell_type": "markdown",
   "metadata": {},
   "source": [
    "#### Conventional speech features"
   ]
  },
  {
   "cell_type": "code",
   "execution_count": null,
   "metadata": {},
   "outputs": [],
   "source": [
    "features = mdd_raw.columns.drop([\"pid\", \"phq8\", \"gender\", \"education_years\", \"age\"])\n",
    "\n",
    "X = mdd_raw[features]\n",
    "y = mdd_raw[[\"phq8\"]]\n",
    "groups = mdd_raw[[\"pid\"]]"
   ]
  },
  {
   "cell_type": "code",
   "execution_count": null,
   "metadata": {},
   "outputs": [],
   "source": [
    "en_Inner_Grid_5 = GridSearchCV(en_pipeline,\n",
    "                               en_param_grid,\n",
    "                               verbose = 1,\n",
    "                               cv=inner_cv,\n",
    "                               n_jobs = -1)"
   ]
  },
  {
   "cell_type": "code",
   "execution_count": null,
   "metadata": {},
   "outputs": [],
   "source": [
    "conventional_nodemo = cross_validate(en_Inner_Grid_5, X, y, \n",
    "                         cv=outer_cv,\n",
    "                         groups=groups,\n",
    "                         params={'groups': groups}, \n",
    "                         scoring=scorers,\n",
    "                         n_jobs = -1,\n",
    "                         return_train_score=True,\n",
    "                         return_estimator=True)"
   ]
  },
  {
   "cell_type": "markdown",
   "metadata": {},
   "source": [
    "#### CLAC"
   ]
  },
  {
   "cell_type": "code",
   "execution_count": null,
   "metadata": {},
   "outputs": [],
   "source": [
    "en_Inner_Grid_6 = GridSearchCV(en_pipeline,\n",
    "                               en_param_grid,\n",
    "                               verbose = 1,\n",
    "                               cv=inner_cv,\n",
    "                               n_jobs = -1)\n"
   ]
  },
  {
   "cell_type": "code",
   "execution_count": null,
   "metadata": {},
   "outputs": [],
   "source": [
    "features = clac_data.columns.drop([\"pid\", \"phq8\", \"gender\", \"education_years\", \"age\"])\n",
    "\n",
    "X = clac_data[features]\n",
    "y = clac_data[[\"phq8\"]]\n",
    "groups = clac_data[[\"pid\"]]"
   ]
  },
  {
   "cell_type": "code",
   "execution_count": null,
   "metadata": {},
   "outputs": [],
   "source": [
    "clac_model_nodemo = cross_validate(en_Inner_Grid_6, X, y, \n",
    "                           cv=outer_cv,\n",
    "                           groups=groups,\n",
    "                           params={'groups': groups}, \n",
    "                           scoring=scorers,\n",
    "                           return_train_score=True,\n",
    "                           return_estimator=True,\n",
    "                           n_jobs = -1)"
   ]
  },
  {
   "cell_type": "markdown",
   "metadata": {},
   "source": [
    "#### Common voice"
   ]
  },
  {
   "cell_type": "code",
   "execution_count": null,
   "metadata": {},
   "outputs": [],
   "source": [
    "en_Inner_Grid_7 = GridSearchCV(en_pipeline,\n",
    "                               en_param_grid,\n",
    "                               verbose = 1,\n",
    "                               cv=inner_cv,\n",
    "                               n_jobs = -1)"
   ]
  },
  {
   "cell_type": "code",
   "execution_count": null,
   "metadata": {},
   "outputs": [],
   "source": [
    "features = common_data.columns.drop([\"pid\", \"phq8\", \"gender\", \"education_years\", \"age\"])\n",
    "\n",
    "X = common_data[features]\n",
    "y = common_data[[\"phq8\"]]\n",
    "groups = common_data[[\"pid\"]]"
   ]
  },
  {
   "cell_type": "code",
   "execution_count": null,
   "metadata": {},
   "outputs": [],
   "source": [
    "common_model_nodemo = cross_validate(en_Inner_Grid_7, X, y, \n",
    "                           cv=outer_cv,\n",
    "                           groups=groups,\n",
    "                           params={'groups': groups}, \n",
    "                           scoring=scorers,\n",
    "                           return_train_score=True,\n",
    "                           return_estimator=True,\n",
    "                           n_jobs = -1)"
   ]
  },
  {
   "cell_type": "markdown",
   "metadata": {},
   "source": [
    "### Results"
   ]
  },
  {
   "cell_type": "code",
   "execution_count": null,
   "metadata": {},
   "outputs": [],
   "source": [
    "current_model = en_demo\n",
    "print(\"outer\")\n",
    "print(f\"test_rmse: {current_model['test_rmse'].mean()}\")\n",
    "print(f\"test_r2: {current_model['test_r2'].mean()}\")\n",
    "print(f\"test_mae: {current_model['test_mae'].mean()}\")\n",
    "print(\"---------------------------------\")\n",
    "print(\"best params\")\n",
    "print(current_model['estimator'][0].best_params_)\n",
    "print(current_model['estimator'][1].best_params_)\n",
    "print(current_model['estimator'][2].best_params_)\n",
    "print(current_model['estimator'][3].best_params_)\n",
    "print(current_model['estimator'][4].best_params_)"
   ]
  },
  {
   "cell_type": "code",
   "execution_count": null,
   "metadata": {},
   "outputs": [],
   "source": [
    "results = {\n",
    "    \"metric\": [\"test_rmse\", \"test_r2\", \"test_mae\"],\n",
    "    \"demographics_only\":  [en_demo['test_rmse'].mean(), en_demo['test_r2'].mean(), en_demo['test_mae'].mean()],\n",
    "    \"conventional_dem\":  [en_raw['test_rmse'].mean(), en_raw['test_r2'].mean(), en_raw['test_mae'].mean()],\n",
    "    \"clac_dem\":  [clac_model['test_rmse'].mean(), clac_model['test_r2'].mean(), clac_model['test_mae'].mean()],\n",
    "    \"common_dem\":  [common_model['test_rmse'].mean(), common_model['test_r2'].mean(), common_model['test_mae'].mean()],\n",
    "    \n",
    "    \"conventional\":  [conventional_nodemo['test_rmse'].mean(), conventional_nodemo['test_r2'].mean(), conventional_nodemo['test_mae'].mean()],\n",
    "    \"clac\":  [clac_model_nodemo['test_rmse'].mean(), clac_model_nodemo['test_r2'].mean(), clac_model_nodemo['test_mae'].mean()],\n",
    "    \"common\":  [common_model_nodemo['test_rmse'].mean(), common_model_nodemo['test_r2'].mean(), common_model_nodemo['test_mae'].mean()]\n",
    "}\n",
    "\n",
    "results_df = pd.DataFrame(results).T\n",
    "results_df.columns = results_df.iloc[0]  # Set the first row as column names\n",
    "results_df = results_df[1:]  # Remove the first row\n",
    "results_df"
   ]
  }
 ],
 "metadata": {
  "kernelspec": {
   "display_name": "base",
   "language": "python",
   "name": "python3"
  },
  "language_info": {
   "codemirror_mode": {
    "name": "ipython",
    "version": 3
   },
   "file_extension": ".py",
   "mimetype": "text/x-python",
   "name": "python",
   "nbconvert_exporter": "python",
   "pygments_lexer": "ipython3",
   "version": "3.11.0"
  }
 },
 "nbformat": 4,
 "nbformat_minor": 2
}
