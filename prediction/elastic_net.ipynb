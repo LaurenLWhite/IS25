{
 "cells": [
  {
   "cell_type": "code",
   "execution_count": 1,
   "metadata": {},
   "outputs": [],
   "source": [
    "import numpy as np\n",
    "import pandas as pd"
   ]
  },
  {
   "cell_type": "markdown",
   "metadata": {},
   "source": [
    "### Loading in and splitting the data "
   ]
  },
  {
   "cell_type": "code",
   "execution_count": null,
   "metadata": {},
   "outputs": [],
   "source": [
    "data_path = \"\""
   ]
  },
  {
   "cell_type": "code",
   "execution_count": 2,
   "metadata": {},
   "outputs": [],
   "source": [
    "# clac\n",
    "clac_data = pd.read_csv(\"/Users/laurenwhite/Library/CloudStorage/OneDrive-King'sCollegeLondon/Pre_doc_research/Interspeech_2025/data/prediction_data/clac_radar_features.csv\", index_col=0) \n",
    "clac_data.drop([\"pdate\", \"study_site\", \"height\"], axis=1, inplace=True)\n",
    "\n",
    "# common voice\n",
    "common_data = pd.read_csv(\"/Users/laurenwhite/Library/CloudStorage/OneDrive-King'sCollegeLondon/Pre_doc_research/Interspeech_2025/data/prediction_data/common_radar_features.csv\", index_col=0) \n",
    "common_data.drop([\"pdate\", \"study_site\", \"height\"], axis=1, inplace=True)"
   ]
  },
  {
   "cell_type": "code",
   "execution_count": 6,
   "metadata": {},
   "outputs": [
    {
     "data": {
      "text/html": [
       "<div>\n",
       "<style scoped>\n",
       "    .dataframe tbody tr th:only-of-type {\n",
       "        vertical-align: middle;\n",
       "    }\n",
       "\n",
       "    .dataframe tbody tr th {\n",
       "        vertical-align: top;\n",
       "    }\n",
       "\n",
       "    .dataframe thead th {\n",
       "        text-align: right;\n",
       "    }\n",
       "</style>\n",
       "<table border=\"1\" class=\"dataframe\">\n",
       "  <thead>\n",
       "    <tr style=\"text-align: right;\">\n",
       "      <th></th>\n",
       "      <th>pid</th>\n",
       "      <th>phq8</th>\n",
       "      <th>age</th>\n",
       "      <th>gender</th>\n",
       "      <th>education_years</th>\n",
       "      <th>speaking_rate</th>\n",
       "      <th>articulation_rate</th>\n",
       "      <th>mean_f0</th>\n",
       "      <th>stdev_f0_semitone</th>\n",
       "      <th>mean_db</th>\n",
       "      <th>range_ratio_db</th>\n",
       "      <th>hnr_db</th>\n",
       "      <th>spectral_slope</th>\n",
       "      <th>spectral_tilt</th>\n",
       "      <th>cepstral_peak_prominence</th>\n",
       "      <th>mean_f1_loc</th>\n",
       "      <th>std_f1_loc</th>\n",
       "      <th>mean_b1_loc</th>\n",
       "      <th>std_b1_loc</th>\n",
       "      <th>mean_f2_loc</th>\n",
       "      <th>std_f2_loc</th>\n",
       "      <th>mean_b2_loc</th>\n",
       "      <th>std_b2_loc</th>\n",
       "      <th>spectral_gravity</th>\n",
       "      <th>spectral_std_dev</th>\n",
       "      <th>spectral_skewness</th>\n",
       "      <th>spectral_kurtosis</th>\n",
       "    </tr>\n",
       "  </thead>\n",
       "  <tbody>\n",
       "    <tr>\n",
       "      <th>1</th>\n",
       "      <td>00d1d60a-15cf-481b-8264-91705b6f8d97</td>\n",
       "      <td>15</td>\n",
       "      <td>61</td>\n",
       "      <td>1</td>\n",
       "      <td>17</td>\n",
       "      <td>0.0</td>\n",
       "      <td>0.0</td>\n",
       "      <td>-1.744000</td>\n",
       "      <td>0.000000</td>\n",
       "      <td>0.0</td>\n",
       "      <td>1.213840</td>\n",
       "      <td>0.0</td>\n",
       "      <td>0.000000</td>\n",
       "      <td>0.000000</td>\n",
       "      <td>-0.317282</td>\n",
       "      <td>0.000000</td>\n",
       "      <td>1.390084</td>\n",
       "      <td>2.082083</td>\n",
       "      <td>0.000000</td>\n",
       "      <td>0.000</td>\n",
       "      <td>-0.580913</td>\n",
       "      <td>0.0</td>\n",
       "      <td>-0.434505</td>\n",
       "      <td>-1.089088</td>\n",
       "      <td>0.000000</td>\n",
       "      <td>1.232193</td>\n",
       "      <td>0.350427</td>\n",
       "    </tr>\n",
       "    <tr>\n",
       "      <th>2</th>\n",
       "      <td>00d1d60a-15cf-481b-8264-91705b6f8d97</td>\n",
       "      <td>12</td>\n",
       "      <td>61</td>\n",
       "      <td>1</td>\n",
       "      <td>17</td>\n",
       "      <td>0.0</td>\n",
       "      <td>0.0</td>\n",
       "      <td>-2.545115</td>\n",
       "      <td>0.000000</td>\n",
       "      <td>0.0</td>\n",
       "      <td>1.212258</td>\n",
       "      <td>0.0</td>\n",
       "      <td>-1.121925</td>\n",
       "      <td>0.223337</td>\n",
       "      <td>-1.249521</td>\n",
       "      <td>0.000000</td>\n",
       "      <td>0.839457</td>\n",
       "      <td>1.530360</td>\n",
       "      <td>0.000000</td>\n",
       "      <td>0.000</td>\n",
       "      <td>0.000000</td>\n",
       "      <td>0.0</td>\n",
       "      <td>-0.945734</td>\n",
       "      <td>-0.439319</td>\n",
       "      <td>0.000000</td>\n",
       "      <td>0.551471</td>\n",
       "      <td>0.027242</td>\n",
       "    </tr>\n",
       "    <tr>\n",
       "      <th>3</th>\n",
       "      <td>00d1d60a-15cf-481b-8264-91705b6f8d97</td>\n",
       "      <td>6</td>\n",
       "      <td>61</td>\n",
       "      <td>1</td>\n",
       "      <td>17</td>\n",
       "      <td>0.0</td>\n",
       "      <td>0.0</td>\n",
       "      <td>-1.819151</td>\n",
       "      <td>0.000000</td>\n",
       "      <td>0.0</td>\n",
       "      <td>1.203555</td>\n",
       "      <td>0.0</td>\n",
       "      <td>-0.843752</td>\n",
       "      <td>-0.296925</td>\n",
       "      <td>-0.295728</td>\n",
       "      <td>0.578759</td>\n",
       "      <td>1.442836</td>\n",
       "      <td>1.809036</td>\n",
       "      <td>0.000000</td>\n",
       "      <td>-0.001</td>\n",
       "      <td>0.000000</td>\n",
       "      <td>0.0</td>\n",
       "      <td>-0.726845</td>\n",
       "      <td>-0.725703</td>\n",
       "      <td>0.000000</td>\n",
       "      <td>0.000000</td>\n",
       "      <td>0.000000</td>\n",
       "    </tr>\n",
       "    <tr>\n",
       "      <th>4</th>\n",
       "      <td>00d1d60a-15cf-481b-8264-91705b6f8d97</td>\n",
       "      <td>9</td>\n",
       "      <td>61</td>\n",
       "      <td>1</td>\n",
       "      <td>17</td>\n",
       "      <td>0.0</td>\n",
       "      <td>0.0</td>\n",
       "      <td>-2.176398</td>\n",
       "      <td>0.000000</td>\n",
       "      <td>0.0</td>\n",
       "      <td>1.200562</td>\n",
       "      <td>0.0</td>\n",
       "      <td>-0.616678</td>\n",
       "      <td>-0.338899</td>\n",
       "      <td>-0.712186</td>\n",
       "      <td>0.521348</td>\n",
       "      <td>1.808139</td>\n",
       "      <td>2.494563</td>\n",
       "      <td>0.553426</td>\n",
       "      <td>0.000</td>\n",
       "      <td>0.000000</td>\n",
       "      <td>0.0</td>\n",
       "      <td>0.000000</td>\n",
       "      <td>-1.225893</td>\n",
       "      <td>-0.331692</td>\n",
       "      <td>0.460893</td>\n",
       "      <td>0.437590</td>\n",
       "    </tr>\n",
       "    <tr>\n",
       "      <th>5</th>\n",
       "      <td>00d1d60a-15cf-481b-8264-91705b6f8d97</td>\n",
       "      <td>11</td>\n",
       "      <td>61</td>\n",
       "      <td>1</td>\n",
       "      <td>17</td>\n",
       "      <td>0.0</td>\n",
       "      <td>0.0</td>\n",
       "      <td>-1.750742</td>\n",
       "      <td>0.044732</td>\n",
       "      <td>0.0</td>\n",
       "      <td>1.198447</td>\n",
       "      <td>0.0</td>\n",
       "      <td>-1.066452</td>\n",
       "      <td>0.000000</td>\n",
       "      <td>-0.454695</td>\n",
       "      <td>0.000000</td>\n",
       "      <td>0.661622</td>\n",
       "      <td>0.930780</td>\n",
       "      <td>0.000000</td>\n",
       "      <td>0.000</td>\n",
       "      <td>0.000000</td>\n",
       "      <td>0.0</td>\n",
       "      <td>-0.255992</td>\n",
       "      <td>-0.768140</td>\n",
       "      <td>0.000000</td>\n",
       "      <td>1.476744</td>\n",
       "      <td>1.562534</td>\n",
       "    </tr>\n",
       "  </tbody>\n",
       "</table>\n",
       "</div>"
      ],
      "text/plain": [
       "                                    pid  phq8  age  gender  education_years  speaking_rate  articulation_rate  ...  std_f2_loc  mean_b2_loc  std_b2_loc  spectral_gravity  spectral_std_dev  spectral_skewness  spectral_kurtosis\n",
       "1  00d1d60a-15cf-481b-8264-91705b6f8d97    15   61       1               17            0.0                0.0  ...   -0.580913          0.0   -0.434505         -1.089088          0.000000           1.232193           0.350427\n",
       "2  00d1d60a-15cf-481b-8264-91705b6f8d97    12   61       1               17            0.0                0.0  ...    0.000000          0.0   -0.945734         -0.439319          0.000000           0.551471           0.027242\n",
       "3  00d1d60a-15cf-481b-8264-91705b6f8d97     6   61       1               17            0.0                0.0  ...    0.000000          0.0   -0.726845         -0.725703          0.000000           0.000000           0.000000\n",
       "4  00d1d60a-15cf-481b-8264-91705b6f8d97     9   61       1               17            0.0                0.0  ...    0.000000          0.0    0.000000         -1.225893         -0.331692           0.460893           0.437590\n",
       "5  00d1d60a-15cf-481b-8264-91705b6f8d97    11   61       1               17            0.0                0.0  ...    0.000000          0.0   -0.255992         -0.768140          0.000000           1.476744           1.562534\n",
       "\n",
       "[5 rows x 27 columns]"
      ]
     },
     "execution_count": null,
     "metadata": {},
     "output_type": "execute_result"
    }
   ],
   "source": [
    "common_data.head()"
   ]
  },
  {
   "cell_type": "code",
   "execution_count": 6,
   "metadata": {},
   "outputs": [
    {
     "data": {
      "text/html": [
       "<div>\n",
       "<style scoped>\n",
       "    .dataframe tbody tr th:only-of-type {\n",
       "        vertical-align: middle;\n",
       "    }\n",
       "\n",
       "    .dataframe tbody tr th {\n",
       "        vertical-align: top;\n",
       "    }\n",
       "\n",
       "    .dataframe thead th {\n",
       "        text-align: right;\n",
       "    }\n",
       "</style>\n",
       "<table border=\"1\" class=\"dataframe\">\n",
       "  <thead>\n",
       "    <tr style=\"text-align: right;\">\n",
       "      <th></th>\n",
       "      <th>pid</th>\n",
       "      <th>phq8</th>\n",
       "      <th>age</th>\n",
       "      <th>gender</th>\n",
       "      <th>education_years</th>\n",
       "      <th>speaking_rate</th>\n",
       "      <th>articulation_rate</th>\n",
       "      <th>phonation_ratio</th>\n",
       "      <th>pause_rate</th>\n",
       "      <th>mean_pause_duration</th>\n",
       "      <th>mean_f0</th>\n",
       "      <th>stdev_f0_semitone</th>\n",
       "      <th>mean_db</th>\n",
       "      <th>range_ratio_db</th>\n",
       "      <th>hnr_db</th>\n",
       "      <th>spectral_slope</th>\n",
       "      <th>spectral_tilt</th>\n",
       "      <th>cepstral_peak_prominence</th>\n",
       "      <th>mean_f1_loc</th>\n",
       "      <th>std_f1_loc</th>\n",
       "      <th>mean_b1_loc</th>\n",
       "      <th>std_b1_loc</th>\n",
       "      <th>mean_f2_loc</th>\n",
       "      <th>std_f2_loc</th>\n",
       "      <th>mean_b2_loc</th>\n",
       "      <th>std_b2_loc</th>\n",
       "      <th>spectral_gravity</th>\n",
       "      <th>spectral_std_dev</th>\n",
       "      <th>spectral_skewness</th>\n",
       "      <th>spectral_kurtosis</th>\n",
       "    </tr>\n",
       "  </thead>\n",
       "  <tbody>\n",
       "    <tr>\n",
       "      <th>1</th>\n",
       "      <td>00d1d60a-15cf-481b-8264-91705b6f8d97</td>\n",
       "      <td>15</td>\n",
       "      <td>61</td>\n",
       "      <td>1</td>\n",
       "      <td>17</td>\n",
       "      <td>0.0</td>\n",
       "      <td>0.0</td>\n",
       "      <td>0.0</td>\n",
       "      <td>0.000000</td>\n",
       "      <td>0.000000</td>\n",
       "      <td>-2.439524</td>\n",
       "      <td>-0.014556</td>\n",
       "      <td>-3.866236</td>\n",
       "      <td>0.0</td>\n",
       "      <td>0.0</td>\n",
       "      <td>-0.404939</td>\n",
       "      <td>0.000652</td>\n",
       "      <td>-0.839513</td>\n",
       "      <td>-0.838916</td>\n",
       "      <td>1.382339</td>\n",
       "      <td>4.543032</td>\n",
       "      <td>0.000000</td>\n",
       "      <td>0.000000</td>\n",
       "      <td>-1.957449</td>\n",
       "      <td>0.000000</td>\n",
       "      <td>-0.947449</td>\n",
       "      <td>-2.079705</td>\n",
       "      <td>0.000000</td>\n",
       "      <td>2.782305</td>\n",
       "      <td>0.950200</td>\n",
       "    </tr>\n",
       "    <tr>\n",
       "      <th>2</th>\n",
       "      <td>00d1d60a-15cf-481b-8264-91705b6f8d97</td>\n",
       "      <td>12</td>\n",
       "      <td>61</td>\n",
       "      <td>1</td>\n",
       "      <td>17</td>\n",
       "      <td>0.0</td>\n",
       "      <td>0.0</td>\n",
       "      <td>0.0</td>\n",
       "      <td>0.000000</td>\n",
       "      <td>0.000000</td>\n",
       "      <td>-3.580458</td>\n",
       "      <td>-0.642018</td>\n",
       "      <td>-3.257788</td>\n",
       "      <td>0.0</td>\n",
       "      <td>0.0</td>\n",
       "      <td>-2.054069</td>\n",
       "      <td>0.634049</td>\n",
       "      <td>-1.694526</td>\n",
       "      <td>0.000000</td>\n",
       "      <td>0.725188</td>\n",
       "      <td>3.690534</td>\n",
       "      <td>0.000000</td>\n",
       "      <td>0.000000</td>\n",
       "      <td>-0.659081</td>\n",
       "      <td>0.564567</td>\n",
       "      <td>-1.505552</td>\n",
       "      <td>-1.317413</td>\n",
       "      <td>0.000000</td>\n",
       "      <td>1.783904</td>\n",
       "      <td>0.510687</td>\n",
       "    </tr>\n",
       "    <tr>\n",
       "      <th>3</th>\n",
       "      <td>00d1d60a-15cf-481b-8264-91705b6f8d97</td>\n",
       "      <td>6</td>\n",
       "      <td>61</td>\n",
       "      <td>1</td>\n",
       "      <td>17</td>\n",
       "      <td>0.0</td>\n",
       "      <td>0.0</td>\n",
       "      <td>0.0</td>\n",
       "      <td>0.000000</td>\n",
       "      <td>-0.119877</td>\n",
       "      <td>-2.546552</td>\n",
       "      <td>0.000000</td>\n",
       "      <td>-2.302101</td>\n",
       "      <td>0.0</td>\n",
       "      <td>0.0</td>\n",
       "      <td>-1.736427</td>\n",
       "      <td>-0.882347</td>\n",
       "      <td>-0.819745</td>\n",
       "      <td>0.999972</td>\n",
       "      <td>1.445295</td>\n",
       "      <td>4.121132</td>\n",
       "      <td>0.087793</td>\n",
       "      <td>-0.695228</td>\n",
       "      <td>-1.058550</td>\n",
       "      <td>0.000000</td>\n",
       "      <td>-1.266593</td>\n",
       "      <td>-1.653392</td>\n",
       "      <td>-0.150280</td>\n",
       "      <td>0.823852</td>\n",
       "      <td>0.362275</td>\n",
       "    </tr>\n",
       "    <tr>\n",
       "      <th>4</th>\n",
       "      <td>00d1d60a-15cf-481b-8264-91705b6f8d97</td>\n",
       "      <td>9</td>\n",
       "      <td>61</td>\n",
       "      <td>1</td>\n",
       "      <td>17</td>\n",
       "      <td>0.0</td>\n",
       "      <td>0.0</td>\n",
       "      <td>0.0</td>\n",
       "      <td>0.293384</td>\n",
       "      <td>0.000000</td>\n",
       "      <td>-3.055337</td>\n",
       "      <td>0.000000</td>\n",
       "      <td>-3.237042</td>\n",
       "      <td>0.0</td>\n",
       "      <td>0.0</td>\n",
       "      <td>-1.477134</td>\n",
       "      <td>-0.940911</td>\n",
       "      <td>-1.201704</td>\n",
       "      <td>0.914478</td>\n",
       "      <td>1.881269</td>\n",
       "      <td>5.180379</td>\n",
       "      <td>0.900959</td>\n",
       "      <td>0.000000</td>\n",
       "      <td>-0.867849</td>\n",
       "      <td>0.251918</td>\n",
       "      <td>0.000000</td>\n",
       "      <td>-2.240201</td>\n",
       "      <td>-0.533363</td>\n",
       "      <td>1.651056</td>\n",
       "      <td>1.068737</td>\n",
       "    </tr>\n",
       "    <tr>\n",
       "      <th>5</th>\n",
       "      <td>00d1d60a-15cf-481b-8264-91705b6f8d97</td>\n",
       "      <td>11</td>\n",
       "      <td>61</td>\n",
       "      <td>1</td>\n",
       "      <td>17</td>\n",
       "      <td>0.0</td>\n",
       "      <td>0.0</td>\n",
       "      <td>0.0</td>\n",
       "      <td>0.000000</td>\n",
       "      <td>0.000000</td>\n",
       "      <td>-2.449125</td>\n",
       "      <td>0.051457</td>\n",
       "      <td>-1.983721</td>\n",
       "      <td>0.0</td>\n",
       "      <td>0.0</td>\n",
       "      <td>-1.990725</td>\n",
       "      <td>0.000000</td>\n",
       "      <td>-0.965543</td>\n",
       "      <td>0.000000</td>\n",
       "      <td>0.512950</td>\n",
       "      <td>2.764089</td>\n",
       "      <td>0.128217</td>\n",
       "      <td>0.000000</td>\n",
       "      <td>-0.977499</td>\n",
       "      <td>0.000000</td>\n",
       "      <td>-0.752567</td>\n",
       "      <td>-1.703177</td>\n",
       "      <td>0.000000</td>\n",
       "      <td>3.140984</td>\n",
       "      <td>2.598593</td>\n",
       "    </tr>\n",
       "  </tbody>\n",
       "</table>\n",
       "</div>"
      ],
      "text/plain": [
       "                                    pid  phq8  age  gender  education_years  speaking_rate  articulation_rate  ...  std_f2_loc  mean_b2_loc  std_b2_loc  spectral_gravity  spectral_std_dev  spectral_skewness  spectral_kurtosis\n",
       "1  00d1d60a-15cf-481b-8264-91705b6f8d97    15   61       1               17            0.0                0.0  ...   -1.957449     0.000000   -0.947449         -2.079705          0.000000           2.782305           0.950200\n",
       "2  00d1d60a-15cf-481b-8264-91705b6f8d97    12   61       1               17            0.0                0.0  ...   -0.659081     0.564567   -1.505552         -1.317413          0.000000           1.783904           0.510687\n",
       "3  00d1d60a-15cf-481b-8264-91705b6f8d97     6   61       1               17            0.0                0.0  ...   -1.058550     0.000000   -1.266593         -1.653392         -0.150280           0.823852           0.362275\n",
       "4  00d1d60a-15cf-481b-8264-91705b6f8d97     9   61       1               17            0.0                0.0  ...   -0.867849     0.251918    0.000000         -2.240201         -0.533363           1.651056           1.068737\n",
       "5  00d1d60a-15cf-481b-8264-91705b6f8d97    11   61       1               17            0.0                0.0  ...   -0.977499     0.000000   -0.752567         -1.703177          0.000000           3.140984           2.598593\n",
       "\n",
       "[5 rows x 30 columns]"
      ]
     },
     "execution_count": null,
     "metadata": {},
     "output_type": "execute_result"
    }
   ],
   "source": [
    "clac_data.head()"
   ]
  },
  {
   "cell_type": "markdown",
   "metadata": {},
   "source": [
    "### Create datasets for the two model versions"
   ]
  },
  {
   "cell_type": "code",
   "execution_count": 7,
   "metadata": {},
   "outputs": [],
   "source": [
    "radar_raw = pd.read_csv(\"/Users/laurenwhite/Library/CloudStorage/OneDrive-King'sCollegeLondon/Pre_doc_research/Interspeech_2025/data/radar/radar_data.csv\", index_col=0)\n",
    "radar_raw.drop([\"pdate\", \"study_site\", \"height\"], axis=1, inplace=True)"
   ]
  },
  {
   "cell_type": "code",
   "execution_count": 8,
   "metadata": {},
   "outputs": [],
   "source": [
    "# demographics only - i know these should be the same across datasets but I want to be safe\n",
    "demographics = radar_raw.loc[:,[\"pid\", \"age\", \"education_years\", \"gender\", \"phq8\"]]"
   ]
  },
  {
   "cell_type": "code",
   "execution_count": 9,
   "metadata": {},
   "outputs": [],
   "source": [
    "from sklearn.model_selection import GroupKFold, GridSearchCV\n",
    "from sklearn.preprocessing import StandardScaler\n",
    "from sklearn.pipeline import Pipeline\n",
    "from sklearn.ensemble import RandomForestRegressor\n",
    "from sklearn.linear_model import ElasticNet\n",
    "from sklearn.model_selection import cross_validate\n",
    "from sklearn.metrics import make_scorer, mean_squared_error, r2_score, mean_absolute_error, explained_variance_score"
   ]
  },
  {
   "cell_type": "code",
   "execution_count": 10,
   "metadata": {},
   "outputs": [
    {
     "name": "stdout",
     "output_type": "stream",
     "text": [
      "1.5.1\n",
      "3.11.0 | packaged by conda-forge | (main, Jan 14 2023, 12:25:12) [Clang 14.0.6 ]\n",
      "1.5.1\n",
      "3.11.0 | packaged by conda-forge | (main, Jan 14 2023, 12:25:12) [Clang 14.0.6 ]\n"
     ]
    }
   ],
   "source": [
    "import sklearn\n",
    "print(sklearn.__version__)\n",
    "import sys\n",
    "print(sys.version)"
   ]
  },
  {
   "cell_type": "code",
   "execution_count": 11,
   "metadata": {},
   "outputs": [],
   "source": [
    "# Custom RMSE scorer\n",
    "def rmse(y_true, y_pred):\n",
    "    return np.sqrt(mean_squared_error(y_true, y_pred))\n",
    "\n",
    "# Custom calibration slope scorer\n",
    "def calibration_slope(y_true, y_pred):\n",
    "    model = ElasticNet()\n",
    "    model.fit(y_pred.reshape(-1, 1), y_true)\n",
    "    return model.coef_[0]\n",
    "\n",
    "# Custom calibration intercept scorer\n",
    "def calibration_intercept(y_true, y_pred):\n",
    "    model = ElasticNet()\n",
    "    model.fit(y_pred.reshape(-1, 1), y_true)\n",
    "    return model.intercept_\n",
    "\n",
    "# Define the scorers dictionary\n",
    "scorers = {\n",
    "    'rmse': make_scorer(rmse), # NC:I removed greater_is_better=False, this only needs setting if using scorer in a loss function \n",
    "    'r2': make_scorer(r2_score),\n",
    "    'mae': make_scorer(mean_absolute_error),\n",
    "    'explained_variance': make_scorer(explained_variance_score),\n",
    "    'calibration_slope': make_scorer(calibration_slope),\n",
    "    'calibration_intercept': make_scorer(calibration_intercept)\n",
    "}"
   ]
  },
  {
   "cell_type": "code",
   "execution_count": 12,
   "metadata": {},
   "outputs": [],
   "source": [
    "# cv splits\n",
    "inner_cv = GroupKFold(n_splits=10)\n",
    "outer_cv = GroupKFold(n_splits=10)"
   ]
  },
  {
   "cell_type": "code",
   "execution_count": 13,
   "metadata": {},
   "outputs": [],
   "source": [
    "# Pipeline\n",
    "en_pipeline = Pipeline([\n",
    "    ('scaler', StandardScaler()),\n",
    "    ('elasticnet', ElasticNet(random_state=30))\n",
    "])\n",
    "\n",
    "# Define hyperparameters to search\n",
    "en_param_grid = {\n",
    "    'elasticnet__alpha': [0.1, 1.0, 10.0, 100],\n",
    "    'elasticnet__l1_ratio': [0.1, 0.2, 0.3, 0.4, 0.5, 0.6, 0.7, 0.8, 0.9]\n",
    "}"
   ]
  },
  {
   "cell_type": "markdown",
   "metadata": {},
   "source": [
    "### Demographics only"
   ]
  },
  {
   "cell_type": "code",
   "execution_count": 14,
   "metadata": {},
   "outputs": [],
   "source": [
    "features = [\"age\", \"gender\", \"education_years\"]\n",
    "\n",
    "X = radar_raw[features]\n",
    "y = radar_raw[[\"phq8\"]]\n",
    "groups = radar_raw[[\"pid\"]]"
   ]
  },
  {
   "cell_type": "code",
   "execution_count": 15,
   "metadata": {},
   "outputs": [],
   "source": [
    "en_Inner_Grid_1 = GridSearchCV(en_pipeline,\n",
    "                               en_param_grid,\n",
    "                               verbose = 1,\n",
    "                               cv=inner_cv,\n",
    "                               n_jobs = -1)"
   ]
  },
  {
   "cell_type": "code",
   "execution_count": 16,
   "metadata": {},
   "outputs": [],
   "source": [
    "en_demo = cross_validate(en_Inner_Grid_1, X, y, \n",
    "                         cv=outer_cv,\n",
    "                         groups=groups,\n",
    "                         params={'groups': groups}, \n",
    "                         scoring=scorers,\n",
    "                         n_jobs = -1,\n",
    "                         return_train_score=True,\n",
    "                         return_estimator=True)"
   ]
  },
  {
   "cell_type": "markdown",
   "metadata": {},
   "source": [
    "#### Conventional + demographics"
   ]
  },
  {
   "cell_type": "code",
   "execution_count": 17,
   "metadata": {},
   "outputs": [],
   "source": [
    "features = radar_raw.columns.drop([\"pid\", \"phq8\"])\n",
    "\n",
    "X = radar_raw[features]\n",
    "y = radar_raw[[\"phq8\"]]\n",
    "groups = radar_raw[[\"pid\"]]"
   ]
  },
  {
   "cell_type": "code",
   "execution_count": 18,
   "metadata": {},
   "outputs": [],
   "source": [
    "en_Inner_Grid_2 = GridSearchCV(en_pipeline,\n",
    "                               en_param_grid,\n",
    "                               verbose = 1,\n",
    "                               cv=inner_cv,\n",
    "                               n_jobs = -1)"
   ]
  },
  {
   "cell_type": "code",
   "execution_count": 19,
   "metadata": {},
   "outputs": [],
   "source": [
    "en_raw = cross_validate(en_Inner_Grid_2, X, y, \n",
    "                         cv=outer_cv,\n",
    "                         groups=groups,\n",
    "                         params={'groups': groups}, \n",
    "                         scoring=scorers,\n",
    "                         n_jobs = -1,\n",
    "                         return_train_score=True,\n",
    "                         return_estimator=True)"
   ]
  },
  {
   "cell_type": "markdown",
   "metadata": {},
   "source": [
    "### CLAC + demographics"
   ]
  },
  {
   "cell_type": "code",
   "execution_count": 21,
   "metadata": {},
   "outputs": [],
   "source": [
    "en_Inner_Grid_3 = GridSearchCV(en_pipeline,\n",
    "                               en_param_grid,\n",
    "                               verbose = 1,\n",
    "                               cv=inner_cv,\n",
    "                               n_jobs = -1)\n"
   ]
  },
  {
   "cell_type": "code",
   "execution_count": 22,
   "metadata": {},
   "outputs": [],
   "source": [
    "features = clac_data.columns.drop([\"pid\", \"phq8\"])\n",
    "\n",
    "X = clac_data[features]\n",
    "y = clac_data[[\"phq8\"]]\n",
    "groups = clac_data[[\"pid\"]]"
   ]
  },
  {
   "cell_type": "code",
   "execution_count": 23,
   "metadata": {},
   "outputs": [],
   "source": [
    "clac_model = cross_validate(en_Inner_Grid_3, X, y, \n",
    "                           cv=outer_cv,\n",
    "                           groups=groups,\n",
    "                           params={'groups': groups}, \n",
    "                           scoring=scorers,\n",
    "                           return_train_score=True,\n",
    "                           return_estimator=True,\n",
    "                           n_jobs = -1)"
   ]
  },
  {
   "cell_type": "markdown",
   "metadata": {},
   "source": [
    "### Common voice + demographics"
   ]
  },
  {
   "cell_type": "code",
   "execution_count": 24,
   "metadata": {},
   "outputs": [],
   "source": [
    "en_Inner_Grid_4 = GridSearchCV(en_pipeline,\n",
    "                               en_param_grid,\n",
    "                               verbose = 1,\n",
    "                               cv=inner_cv,\n",
    "                               n_jobs = -1)"
   ]
  },
  {
   "cell_type": "code",
   "execution_count": 25,
   "metadata": {},
   "outputs": [],
   "source": [
    "features = common_data.columns.drop([\"pid\", \"phq8\"])\n",
    "\n",
    "X = common_data[features]\n",
    "y = common_data[[\"phq8\"]]\n",
    "groups = common_data[[\"pid\"]]"
   ]
  },
  {
   "cell_type": "code",
   "execution_count": 27,
   "metadata": {},
   "outputs": [],
   "source": [
    "common_model = cross_validate(en_Inner_Grid_4, X, y, \n",
    "                           cv=outer_cv,\n",
    "                           groups=groups,\n",
    "                           params={'groups': groups}, \n",
    "                           scoring=scorers,\n",
    "                           return_train_score=True,\n",
    "                           return_estimator=True,\n",
    "                           n_jobs = -1)"
   ]
  },
  {
   "cell_type": "markdown",
   "metadata": {},
   "source": [
    "## Models without demographics"
   ]
  },
  {
   "cell_type": "markdown",
   "metadata": {},
   "source": [
    "#### Conventional speech features"
   ]
  },
  {
   "cell_type": "code",
   "execution_count": 32,
   "metadata": {},
   "outputs": [],
   "source": [
    "features = radar_raw.columns.drop([\"pid\", \"phq8\", \"gender\", \"education_years\", \"age\"])\n",
    "\n",
    "X = radar_raw[features]\n",
    "y = radar_raw[[\"phq8\"]]\n",
    "groups = radar_raw[[\"pid\"]]"
   ]
  },
  {
   "cell_type": "code",
   "execution_count": 33,
   "metadata": {},
   "outputs": [],
   "source": [
    "en_Inner_Grid_5 = GridSearchCV(en_pipeline,\n",
    "                               en_param_grid,\n",
    "                               verbose = 1,\n",
    "                               cv=inner_cv,\n",
    "                               n_jobs = -1)"
   ]
  },
  {
   "cell_type": "code",
   "execution_count": 34,
   "metadata": {},
   "outputs": [],
   "source": [
    "conventional_nodemo = cross_validate(en_Inner_Grid_5, X, y, \n",
    "                         cv=outer_cv,\n",
    "                         groups=groups,\n",
    "                         params={'groups': groups}, \n",
    "                         scoring=scorers,\n",
    "                         n_jobs = -1,\n",
    "                         return_train_score=True,\n",
    "                         return_estimator=True)"
   ]
  },
  {
   "cell_type": "markdown",
   "metadata": {},
   "source": [
    "### CLAC"
   ]
  },
  {
   "cell_type": "code",
   "execution_count": 35,
   "metadata": {},
   "outputs": [],
   "source": [
    "en_Inner_Grid_6 = GridSearchCV(en_pipeline,\n",
    "                               en_param_grid,\n",
    "                               verbose = 1,\n",
    "                               cv=inner_cv,\n",
    "                               n_jobs = -1)\n"
   ]
  },
  {
   "cell_type": "code",
   "execution_count": 36,
   "metadata": {},
   "outputs": [],
   "source": [
    "features = clac_data.columns.drop([\"pid\", \"phq8\", \"gender\", \"education_years\", \"age\"])\n",
    "\n",
    "X = clac_data[features]\n",
    "y = clac_data[[\"phq8\"]]\n",
    "groups = clac_data[[\"pid\"]]"
   ]
  },
  {
   "cell_type": "code",
   "execution_count": 38,
   "metadata": {},
   "outputs": [],
   "source": [
    "clac_model_nodemo = cross_validate(en_Inner_Grid_6, X, y, \n",
    "                           cv=outer_cv,\n",
    "                           groups=groups,\n",
    "                           params={'groups': groups}, \n",
    "                           scoring=scorers,\n",
    "                           return_train_score=True,\n",
    "                           return_estimator=True,\n",
    "                           n_jobs = -1)"
   ]
  },
  {
   "cell_type": "markdown",
   "metadata": {},
   "source": [
    "### Common voice"
   ]
  },
  {
   "cell_type": "code",
   "execution_count": 39,
   "metadata": {},
   "outputs": [],
   "source": [
    "en_Inner_Grid_7 = GridSearchCV(en_pipeline,\n",
    "                               en_param_grid,\n",
    "                               verbose = 1,\n",
    "                               cv=inner_cv,\n",
    "                               n_jobs = -1)"
   ]
  },
  {
   "cell_type": "code",
   "execution_count": 40,
   "metadata": {},
   "outputs": [],
   "source": [
    "features = common_data.columns.drop([\"pid\", \"phq8\", \"gender\", \"education_years\", \"age\"])\n",
    "\n",
    "X = common_data[features]\n",
    "y = common_data[[\"phq8\"]]\n",
    "groups = common_data[[\"pid\"]]"
   ]
  },
  {
   "cell_type": "code",
   "execution_count": 41,
   "metadata": {},
   "outputs": [],
   "source": [
    "common_model_nodemo = cross_validate(en_Inner_Grid_7, X, y, \n",
    "                           cv=outer_cv,\n",
    "                           groups=groups,\n",
    "                           params={'groups': groups}, \n",
    "                           scoring=scorers,\n",
    "                           return_train_score=True,\n",
    "                           return_estimator=True,\n",
    "                           n_jobs = -1)"
   ]
  },
  {
   "cell_type": "markdown",
   "metadata": {},
   "source": [
    "### Results"
   ]
  },
  {
   "cell_type": "code",
   "execution_count": 42,
   "metadata": {},
   "outputs": [
    {
     "name": "stdout",
     "output_type": "stream",
     "text": [
      "outer\n",
      "test_rmse: 5.968223083411155\n",
      "test_r2: 0.011179667562676632\n",
      "test_mae: 4.927800691231314\n",
      "---------------------------------\n",
      "best params\n",
      "{'elasticnet__alpha': 0.1, 'elasticnet__l1_ratio': 0.9}\n",
      "{'elasticnet__alpha': 0.1, 'elasticnet__l1_ratio': 0.9}\n",
      "{'elasticnet__alpha': 0.1, 'elasticnet__l1_ratio': 0.9}\n",
      "{'elasticnet__alpha': 0.1, 'elasticnet__l1_ratio': 0.9}\n",
      "{'elasticnet__alpha': 0.1, 'elasticnet__l1_ratio': 0.9}\n",
      "outer\n",
      "test_rmse: 5.968223083411155\n",
      "test_r2: 0.011179667562676632\n",
      "test_mae: 4.927800691231314\n",
      "---------------------------------\n",
      "best params\n",
      "{'elasticnet__alpha': 0.1, 'elasticnet__l1_ratio': 0.9}\n",
      "{'elasticnet__alpha': 0.1, 'elasticnet__l1_ratio': 0.9}\n",
      "{'elasticnet__alpha': 0.1, 'elasticnet__l1_ratio': 0.9}\n",
      "{'elasticnet__alpha': 0.1, 'elasticnet__l1_ratio': 0.9}\n",
      "{'elasticnet__alpha': 0.1, 'elasticnet__l1_ratio': 0.9}\n"
     ]
    }
   ],
   "source": [
    "current_model = en_demo\n",
    "print(\"outer\")\n",
    "print(f\"test_rmse: {current_model['test_rmse'].mean()}\")\n",
    "print(f\"test_r2: {current_model['test_r2'].mean()}\")\n",
    "print(f\"test_mae: {current_model['test_mae'].mean()}\")\n",
    "print(\"---------------------------------\")\n",
    "print(\"best params\")\n",
    "print(current_model['estimator'][0].best_params_)\n",
    "print(current_model['estimator'][1].best_params_)\n",
    "print(current_model['estimator'][2].best_params_)\n",
    "print(current_model['estimator'][3].best_params_)\n",
    "print(current_model['estimator'][4].best_params_)"
   ]
  },
  {
   "cell_type": "code",
   "execution_count": 44,
   "metadata": {},
   "outputs": [
    {
     "data": {
      "text/html": [
       "<div>\n",
       "<style scoped>\n",
       "    .dataframe tbody tr th:only-of-type {\n",
       "        vertical-align: middle;\n",
       "    }\n",
       "\n",
       "    .dataframe tbody tr th {\n",
       "        vertical-align: top;\n",
       "    }\n",
       "\n",
       "    .dataframe thead th {\n",
       "        text-align: right;\n",
       "    }\n",
       "</style>\n",
       "<table border=\"1\" class=\"dataframe\">\n",
       "  <thead>\n",
       "    <tr style=\"text-align: right;\">\n",
       "      <th>metric</th>\n",
       "      <th>test_rmse</th>\n",
       "      <th>test_r2</th>\n",
       "      <th>test_mae</th>\n",
       "    </tr>\n",
       "  </thead>\n",
       "  <tbody>\n",
       "    <tr>\n",
       "      <th>demographics_only</th>\n",
       "      <td>5.968223</td>\n",
       "      <td>0.01118</td>\n",
       "      <td>4.927801</td>\n",
       "    </tr>\n",
       "    <tr>\n",
       "      <th>conventional_dem</th>\n",
       "      <td>5.830419</td>\n",
       "      <td>0.053458</td>\n",
       "      <td>4.773684</td>\n",
       "    </tr>\n",
       "    <tr>\n",
       "      <th>clac_dem</th>\n",
       "      <td>5.855152</td>\n",
       "      <td>0.046588</td>\n",
       "      <td>4.806979</td>\n",
       "    </tr>\n",
       "    <tr>\n",
       "      <th>common_dem</th>\n",
       "      <td>5.84828</td>\n",
       "      <td>0.048683</td>\n",
       "      <td>4.807562</td>\n",
       "    </tr>\n",
       "    <tr>\n",
       "      <th>conventional</th>\n",
       "      <td>5.979893</td>\n",
       "      <td>0.008461</td>\n",
       "      <td>4.981262</td>\n",
       "    </tr>\n",
       "    <tr>\n",
       "      <th>clac</th>\n",
       "      <td>5.968163</td>\n",
       "      <td>0.011998</td>\n",
       "      <td>4.960459</td>\n",
       "    </tr>\n",
       "    <tr>\n",
       "      <th>common</th>\n",
       "      <td>5.97915</td>\n",
       "      <td>0.00838</td>\n",
       "      <td>4.976235</td>\n",
       "    </tr>\n",
       "  </tbody>\n",
       "</table>\n",
       "</div>"
      ],
      "text/plain": [
       "metric            test_rmse   test_r2  test_mae\n",
       "demographics_only  5.968223   0.01118  4.927801\n",
       "conventional_dem   5.830419  0.053458  4.773684\n",
       "clac_dem           5.855152  0.046588  4.806979\n",
       "common_dem          5.84828  0.048683  4.807562\n",
       "conventional       5.979893  0.008461  4.981262\n",
       "clac               5.968163  0.011998  4.960459\n",
       "common              5.97915   0.00838  4.976235"
      ]
     },
     "execution_count": null,
     "metadata": {},
     "output_type": "execute_result"
    }
   ],
   "source": [
    "results = {\n",
    "    \"metric\": [\"test_rmse\", \"test_r2\", \"test_mae\"],\n",
    "    \"demographics_only\":  [en_demo['test_rmse'].mean(), en_demo['test_r2'].mean(), en_demo['test_mae'].mean()],\n",
    "    \"conventional_dem\":  [en_raw['test_rmse'].mean(), en_raw['test_r2'].mean(), en_raw['test_mae'].mean()],\n",
    "    \"clac_dem\":  [clac_model['test_rmse'].mean(), clac_model['test_r2'].mean(), clac_model['test_mae'].mean()],\n",
    "    \"common_dem\":  [common_model['test_rmse'].mean(), common_model['test_r2'].mean(), common_model['test_mae'].mean()],\n",
    "    \n",
    "    \"conventional\":  [conventional_nodemo['test_rmse'].mean(), conventional_nodemo['test_r2'].mean(), conventional_nodemo['test_mae'].mean()],\n",
    "    \"clac\":  [clac_model_nodemo['test_rmse'].mean(), clac_model_nodemo['test_r2'].mean(), clac_model_nodemo['test_mae'].mean()],\n",
    "    \"common\":  [common_model_nodemo['test_rmse'].mean(), common_model_nodemo['test_r2'].mean(), common_model_nodemo['test_mae'].mean()]\n",
    "}\n",
    "\n",
    "results_df = pd.DataFrame(results).T\n",
    "results_df.columns = results_df.iloc[0]  # Set the first row as column names\n",
    "results_df = results_df[1:]  # Remove the first row\n",
    "results_df"
   ]
  }
 ],
 "metadata": {
  "kernelspec": {
   "display_name": "base",
   "language": "python",
   "name": "python3"
  },
  "language_info": {
   "codemirror_mode": {
    "name": "ipython",
    "version": 3
   },
   "file_extension": ".py",
   "mimetype": "text/x-python",
   "name": "python",
   "nbconvert_exporter": "python",
   "pygments_lexer": "ipython3",
   "version": "3.11.0"
  }
 },
 "nbformat": 4,
 "nbformat_minor": 2
}
