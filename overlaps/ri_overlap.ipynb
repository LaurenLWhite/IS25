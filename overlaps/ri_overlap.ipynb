{
 "cells": [
  {
   "cell_type": "code",
   "execution_count": 1,
   "metadata": {},
   "outputs": [],
   "source": [
    "import pandas as pd\n",
    "from overlap_functions import overlap, overlap_features"
   ]
  },
  {
   "cell_type": "code",
   "execution_count": 2,
   "metadata": {},
   "outputs": [],
   "source": [
    "# path to the ri data\n",
    "ri_data_path = \"../data/reference_data/\"\n",
    "\n",
    "# read in each of the ri datasets - add as needed\n",
    "clac_female_ris = pd.read_csv(ri_data_path + \"clac_female_reference_intervals.csv\", index_col=0).iloc[:, 0:3]\n",
    "clac_male_ris = pd.read_csv(ri_data_path + \"clac_male_reference_intervals.csv\",index_col=0).iloc[:, 0:3]\n",
    "\n",
    "common_female_ris = pd.read_csv(ri_data_path + \"common_female_reference_intervals.csv\",index_col=0).iloc[:, 0:3]\n",
    "common_male_ris = pd.read_csv(ri_data_path + \"common_male_reference_intervals.csv\",index_col=0).iloc[:, 0:3]"
   ]
  },
  {
   "cell_type": "code",
   "execution_count": 3,
   "metadata": {},
   "outputs": [],
   "source": [
    "# ensure case is consistent\n",
    "clac_female_ris['feature'] = clac_female_ris['feature'].str.lower()\n",
    "clac_male_ris['feature'] = clac_male_ris['feature'].str.lower()\n",
    "\n",
    "common_female_ris['feature'] = common_female_ris['feature'].str.lower()\n",
    "common_male_ris['feature'] = common_male_ris['feature'].str.lower()"
   ]
  },
  {
   "cell_type": "code",
   "execution_count": 4,
   "metadata": {},
   "outputs": [
    {
     "data": {
      "text/html": [
       "<div>\n",
       "<style scoped>\n",
       "    .dataframe tbody tr th:only-of-type {\n",
       "        vertical-align: middle;\n",
       "    }\n",
       "\n",
       "    .dataframe tbody tr th {\n",
       "        vertical-align: top;\n",
       "    }\n",
       "\n",
       "    .dataframe thead th {\n",
       "        text-align: right;\n",
       "    }\n",
       "</style>\n",
       "<table border=\"1\" class=\"dataframe\">\n",
       "  <thead>\n",
       "    <tr style=\"text-align: right;\">\n",
       "      <th></th>\n",
       "      <th>feature</th>\n",
       "      <th>RI_lower_limit</th>\n",
       "      <th>RI_upper_limit</th>\n",
       "    </tr>\n",
       "  </thead>\n",
       "  <tbody>\n",
       "    <tr>\n",
       "      <th>0</th>\n",
       "      <td>speaking_rate</td>\n",
       "      <td>-2.180159</td>\n",
       "      <td>1.756880</td>\n",
       "    </tr>\n",
       "    <tr>\n",
       "      <th>1</th>\n",
       "      <td>articulation_rate</td>\n",
       "      <td>-2.061043</td>\n",
       "      <td>2.125897</td>\n",
       "    </tr>\n",
       "    <tr>\n",
       "      <th>2</th>\n",
       "      <td>phonation_ratio</td>\n",
       "      <td>-2.372067</td>\n",
       "      <td>1.778188</td>\n",
       "    </tr>\n",
       "    <tr>\n",
       "      <th>3</th>\n",
       "      <td>pause_rate</td>\n",
       "      <td>-2.130281</td>\n",
       "      <td>2.176440</td>\n",
       "    </tr>\n",
       "    <tr>\n",
       "      <th>4</th>\n",
       "      <td>mean_pause_duration</td>\n",
       "      <td>-3.362959</td>\n",
       "      <td>1.750304</td>\n",
       "    </tr>\n",
       "  </tbody>\n",
       "</table>\n",
       "</div>"
      ],
      "text/plain": [
       "               feature  RI_lower_limit  RI_upper_limit\n",
       "0        speaking_rate       -2.180159        1.756880\n",
       "1    articulation_rate       -2.061043        2.125897\n",
       "2      phonation_ratio       -2.372067        1.778188\n",
       "3           pause_rate       -2.130281        2.176440\n",
       "4  mean_pause_duration       -3.362959        1.750304"
      ]
     },
     "execution_count": null,
     "metadata": {},
     "output_type": "execute_result"
    }
   ],
   "source": [
    "# should contain three columns: feature; RI_lower_limit; RI_upper_limit\n",
    "clac_female_ris.head()"
   ]
  },
  {
   "cell_type": "code",
   "execution_count": 5,
   "metadata": {},
   "outputs": [],
   "source": [
    "# features to find overlap for; all lowercase\n",
    "speech_features = ['speaking_rate', 'mean_f0', 'cepstral_peak_prominence', 'mean_f1_loc', 'spectral_gravity']"
   ]
  },
  {
   "cell_type": "code",
   "execution_count": 6,
   "metadata": {},
   "outputs": [],
   "source": [
    "# comparison dicts contain a key with the naem of the comparison column, with the value as a list of the TWO dfs to generate the comparison for.\n",
    "# add an extra key value pair in this pattern if there are more datasets to compare. \n",
    "\n",
    "# female\n",
    "female_comparison_dict = {\"clac-cv\": [clac_female_ris, common_female_ris]}\n",
    "female_comparison_list = [i for i in female_comparison_dict.keys()]\n",
    "\n",
    "# male\n",
    "male_comparison_dict = {\"clac-cv\": [clac_male_ris, common_male_ris]}\n",
    "male_comparison_list = [i for i in male_comparison_dict.keys()]\n"
   ]
  },
  {
   "cell_type": "code",
   "execution_count": 7,
   "metadata": {},
   "outputs": [],
   "source": [
    "# empty dfs\n",
    "female_overlap = pd.DataFrame({\"feature\": speech_features})\n",
    "male_overlap = pd.DataFrame({\"feature\": speech_features})"
   ]
  },
  {
   "cell_type": "code",
   "execution_count": 8,
   "metadata": {},
   "outputs": [],
   "source": [
    "# calculate the overlaps for each of the comparison pairs\n",
    "for comparison in female_comparison_dict: \n",
    "    female_overlap = overlap_features(female_comparison_dict[comparison][0], female_comparison_dict[comparison][1], speech_features, female_overlap, comparison)\n",
    "\n",
    "for comparison in male_comparison_dict: \n",
    "    male_overlap = overlap_features(male_comparison_dict[comparison][0], male_comparison_dict[comparison][1], speech_features, male_overlap, comparison)"
   ]
  },
  {
   "cell_type": "code",
   "execution_count": 9,
   "metadata": {},
   "outputs": [],
   "source": [
    "# an additional row with the mean overlap of each comparison pair\n",
    "\n",
    "# define the empty row\n",
    "male_summary_row = pd.DataFrame({\"feature\": [\"mean\"]})\n",
    "female_summary_row = pd.DataFrame({\"feature\": [\"mean\"]})\n",
    "\n",
    "# add the means\n",
    "for i in male_comparison_list:\n",
    "    male_summary_row[i] = male_overlap[i].mean(axis=0)\n",
    "\n",
    "for i in female_comparison_list:\n",
    "    female_summary_row[i] = female_overlap[i].mean(axis=0)"
   ]
  },
  {
   "cell_type": "code",
   "execution_count": 10,
   "metadata": {},
   "outputs": [
    {
     "data": {
      "text/html": [
       "<div>\n",
       "<style scoped>\n",
       "    .dataframe tbody tr th:only-of-type {\n",
       "        vertical-align: middle;\n",
       "    }\n",
       "\n",
       "    .dataframe tbody tr th {\n",
       "        vertical-align: top;\n",
       "    }\n",
       "\n",
       "    .dataframe thead th {\n",
       "        text-align: right;\n",
       "    }\n",
       "</style>\n",
       "<table border=\"1\" class=\"dataframe\">\n",
       "  <thead>\n",
       "    <tr style=\"text-align: right;\">\n",
       "      <th></th>\n",
       "      <th>feature</th>\n",
       "      <th>clac-cv</th>\n",
       "    </tr>\n",
       "  </thead>\n",
       "  <tbody>\n",
       "    <tr>\n",
       "      <th>0</th>\n",
       "      <td>mean</td>\n",
       "      <td>93.2</td>\n",
       "    </tr>\n",
       "  </tbody>\n",
       "</table>\n",
       "</div>"
      ],
      "text/plain": [
       "  feature  clac-cv\n",
       "0    mean     93.2"
      ]
     },
     "execution_count": null,
     "metadata": {},
     "output_type": "execute_result"
    }
   ],
   "source": [
    "male_summary_row"
   ]
  },
  {
   "cell_type": "code",
   "execution_count": 11,
   "metadata": {},
   "outputs": [],
   "source": [
    "# add the summary row and define the mean of each of the features\n",
    "male_overlap = pd.concat([male_overlap, male_summary_row])\n",
    "male_overlap[\"feature_mean\"] = round(male_overlap[male_comparison_list].mean(axis=1), 1)\n",
    "\n",
    "female_overlap = pd.concat([female_overlap, female_summary_row])\n",
    "female_overlap[\"feature_mean\"] = round(female_overlap[female_comparison_list].mean(axis=1), 1)"
   ]
  },
  {
   "cell_type": "markdown",
   "metadata": {},
   "source": [
    "# Results"
   ]
  },
  {
   "cell_type": "code",
   "execution_count": 12,
   "metadata": {},
   "outputs": [
    {
     "data": {
      "text/html": [
       "<div>\n",
       "<style scoped>\n",
       "    .dataframe tbody tr th:only-of-type {\n",
       "        vertical-align: middle;\n",
       "    }\n",
       "\n",
       "    .dataframe tbody tr th {\n",
       "        vertical-align: top;\n",
       "    }\n",
       "\n",
       "    .dataframe thead th {\n",
       "        text-align: right;\n",
       "    }\n",
       "</style>\n",
       "<table border=\"1\" class=\"dataframe\">\n",
       "  <thead>\n",
       "    <tr style=\"text-align: right;\">\n",
       "      <th></th>\n",
       "      <th>feature</th>\n",
       "      <th>clac-cv</th>\n",
       "      <th>feature_mean</th>\n",
       "    </tr>\n",
       "  </thead>\n",
       "  <tbody>\n",
       "    <tr>\n",
       "      <th>0</th>\n",
       "      <td>speaking_rate</td>\n",
       "      <td>95.70</td>\n",
       "      <td>95.7</td>\n",
       "    </tr>\n",
       "    <tr>\n",
       "      <th>1</th>\n",
       "      <td>mean_f0</td>\n",
       "      <td>91.80</td>\n",
       "      <td>91.8</td>\n",
       "    </tr>\n",
       "    <tr>\n",
       "      <th>2</th>\n",
       "      <td>cepstral_peak_prominence</td>\n",
       "      <td>94.20</td>\n",
       "      <td>94.2</td>\n",
       "    </tr>\n",
       "    <tr>\n",
       "      <th>3</th>\n",
       "      <td>mean_f1_loc</td>\n",
       "      <td>84.50</td>\n",
       "      <td>84.5</td>\n",
       "    </tr>\n",
       "    <tr>\n",
       "      <th>4</th>\n",
       "      <td>spectral_gravity</td>\n",
       "      <td>82.40</td>\n",
       "      <td>82.4</td>\n",
       "    </tr>\n",
       "    <tr>\n",
       "      <th>0</th>\n",
       "      <td>mean</td>\n",
       "      <td>89.72</td>\n",
       "      <td>89.7</td>\n",
       "    </tr>\n",
       "  </tbody>\n",
       "</table>\n",
       "</div>"
      ],
      "text/plain": [
       "                    feature  clac-cv  feature_mean\n",
       "0             speaking_rate    95.70          95.7\n",
       "1                   mean_f0    91.80          91.8\n",
       "2  cepstral_peak_prominence    94.20          94.2\n",
       "3               mean_f1_loc    84.50          84.5\n",
       "4          spectral_gravity    82.40          82.4\n",
       "0                      mean    89.72          89.7"
      ]
     },
     "execution_count": null,
     "metadata": {},
     "output_type": "execute_result"
    }
   ],
   "source": [
    "female_overlap"
   ]
  },
  {
   "cell_type": "code",
   "execution_count": 13,
   "metadata": {},
   "outputs": [
    {
     "data": {
      "text/html": [
       "<div>\n",
       "<style scoped>\n",
       "    .dataframe tbody tr th:only-of-type {\n",
       "        vertical-align: middle;\n",
       "    }\n",
       "\n",
       "    .dataframe tbody tr th {\n",
       "        vertical-align: top;\n",
       "    }\n",
       "\n",
       "    .dataframe thead th {\n",
       "        text-align: right;\n",
       "    }\n",
       "</style>\n",
       "<table border=\"1\" class=\"dataframe\">\n",
       "  <thead>\n",
       "    <tr style=\"text-align: right;\">\n",
       "      <th></th>\n",
       "      <th>feature</th>\n",
       "      <th>clac-cv</th>\n",
       "      <th>feature_mean</th>\n",
       "    </tr>\n",
       "  </thead>\n",
       "  <tbody>\n",
       "    <tr>\n",
       "      <th>0</th>\n",
       "      <td>speaking_rate</td>\n",
       "      <td>94.2</td>\n",
       "      <td>94.2</td>\n",
       "    </tr>\n",
       "    <tr>\n",
       "      <th>1</th>\n",
       "      <td>mean_f0</td>\n",
       "      <td>93.9</td>\n",
       "      <td>93.9</td>\n",
       "    </tr>\n",
       "    <tr>\n",
       "      <th>2</th>\n",
       "      <td>cepstral_peak_prominence</td>\n",
       "      <td>98.6</td>\n",
       "      <td>98.6</td>\n",
       "    </tr>\n",
       "    <tr>\n",
       "      <th>3</th>\n",
       "      <td>mean_f1_loc</td>\n",
       "      <td>90.6</td>\n",
       "      <td>90.6</td>\n",
       "    </tr>\n",
       "    <tr>\n",
       "      <th>4</th>\n",
       "      <td>spectral_gravity</td>\n",
       "      <td>88.7</td>\n",
       "      <td>88.7</td>\n",
       "    </tr>\n",
       "    <tr>\n",
       "      <th>0</th>\n",
       "      <td>mean</td>\n",
       "      <td>93.2</td>\n",
       "      <td>93.2</td>\n",
       "    </tr>\n",
       "  </tbody>\n",
       "</table>\n",
       "</div>"
      ],
      "text/plain": [
       "                    feature  clac-cv  feature_mean\n",
       "0             speaking_rate     94.2          94.2\n",
       "1                   mean_f0     93.9          93.9\n",
       "2  cepstral_peak_prominence     98.6          98.6\n",
       "3               mean_f1_loc     90.6          90.6\n",
       "4          spectral_gravity     88.7          88.7\n",
       "0                      mean     93.2          93.2"
      ]
     },
     "execution_count": null,
     "metadata": {},
     "output_type": "execute_result"
    }
   ],
   "source": [
    "male_overlap"
   ]
  }
 ],
 "metadata": {
  "language_info": {
   "name": "python"
  }
 },
 "nbformat": 4,
 "nbformat_minor": 2
}
